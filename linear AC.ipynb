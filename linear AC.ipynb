{
 "cells": [
  {
   "cell_type": "code",
   "execution_count": 243,
   "metadata": {},
   "outputs": [],
   "source": [
    "import pandas as pd\n",
    "import numpy as np\n",
    "import matplotlib.pyplot as plt\n",
    "import yfinance as yf\n",
    "from scipy.linalg import sqrtm\n",
    "\n"
   ]
  },
  {
   "cell_type": "code",
   "execution_count": 250,
   "metadata": {},
   "outputs": [
    {
     "data": {
      "text/html": [
       "<div>\n",
       "<style scoped>\n",
       "    .dataframe tbody tr th:only-of-type {\n",
       "        vertical-align: middle;\n",
       "    }\n",
       "\n",
       "    .dataframe tbody tr th {\n",
       "        vertical-align: top;\n",
       "    }\n",
       "\n",
       "    .dataframe thead th {\n",
       "        text-align: right;\n",
       "    }\n",
       "</style>\n",
       "<table border=\"1\" class=\"dataframe\">\n",
       "  <thead>\n",
       "    <tr style=\"text-align: right;\">\n",
       "      <th></th>\n",
       "      <th>Open</th>\n",
       "      <th>High</th>\n",
       "      <th>Low</th>\n",
       "      <th>Close</th>\n",
       "      <th>Volume</th>\n",
       "      <th>Dividends</th>\n",
       "      <th>Stock Splits</th>\n",
       "    </tr>\n",
       "    <tr>\n",
       "      <th>Date</th>\n",
       "      <th></th>\n",
       "      <th></th>\n",
       "      <th></th>\n",
       "      <th></th>\n",
       "      <th></th>\n",
       "      <th></th>\n",
       "      <th></th>\n",
       "    </tr>\n",
       "  </thead>\n",
       "  <tbody>\n",
       "    <tr>\n",
       "      <th>2023-01-17 00:00:00-05:00</th>\n",
       "      <td>92.779999</td>\n",
       "      <td>92.970001</td>\n",
       "      <td>90.839996</td>\n",
       "      <td>92.160004</td>\n",
       "      <td>22935800</td>\n",
       "      <td>0.0</td>\n",
       "      <td>0.0</td>\n",
       "    </tr>\n",
       "    <tr>\n",
       "      <th>2023-01-18 00:00:00-05:00</th>\n",
       "      <td>92.940002</td>\n",
       "      <td>93.587997</td>\n",
       "      <td>91.400002</td>\n",
       "      <td>91.779999</td>\n",
       "      <td>19641600</td>\n",
       "      <td>0.0</td>\n",
       "      <td>0.0</td>\n",
       "    </tr>\n",
       "    <tr>\n",
       "      <th>2023-01-19 00:00:00-05:00</th>\n",
       "      <td>91.389999</td>\n",
       "      <td>94.400002</td>\n",
       "      <td>91.379997</td>\n",
       "      <td>93.910004</td>\n",
       "      <td>28707700</td>\n",
       "      <td>0.0</td>\n",
       "      <td>0.0</td>\n",
       "    </tr>\n",
       "    <tr>\n",
       "      <th>2023-01-20 00:00:00-05:00</th>\n",
       "      <td>95.949997</td>\n",
       "      <td>99.419998</td>\n",
       "      <td>95.910004</td>\n",
       "      <td>99.279999</td>\n",
       "      <td>53704800</td>\n",
       "      <td>0.0</td>\n",
       "      <td>0.0</td>\n",
       "    </tr>\n",
       "    <tr>\n",
       "      <th>2023-01-23 00:00:00-05:00</th>\n",
       "      <td>99.129997</td>\n",
       "      <td>101.400002</td>\n",
       "      <td>98.750000</td>\n",
       "      <td>101.209999</td>\n",
       "      <td>31791800</td>\n",
       "      <td>0.0</td>\n",
       "      <td>0.0</td>\n",
       "    </tr>\n",
       "    <tr>\n",
       "      <th>...</th>\n",
       "      <td>...</td>\n",
       "      <td>...</td>\n",
       "      <td>...</td>\n",
       "      <td>...</td>\n",
       "      <td>...</td>\n",
       "      <td>...</td>\n",
       "      <td>...</td>\n",
       "    </tr>\n",
       "    <tr>\n",
       "      <th>2023-04-10 00:00:00-04:00</th>\n",
       "      <td>107.389999</td>\n",
       "      <td>107.970001</td>\n",
       "      <td>105.599998</td>\n",
       "      <td>106.949997</td>\n",
       "      <td>19741500</td>\n",
       "      <td>0.0</td>\n",
       "      <td>0.0</td>\n",
       "    </tr>\n",
       "    <tr>\n",
       "      <th>2023-04-11 00:00:00-04:00</th>\n",
       "      <td>106.919998</td>\n",
       "      <td>107.220001</td>\n",
       "      <td>105.279999</td>\n",
       "      <td>106.120003</td>\n",
       "      <td>18721300</td>\n",
       "      <td>0.0</td>\n",
       "      <td>0.0</td>\n",
       "    </tr>\n",
       "    <tr>\n",
       "      <th>2023-04-12 00:00:00-04:00</th>\n",
       "      <td>107.389999</td>\n",
       "      <td>107.586998</td>\n",
       "      <td>104.970001</td>\n",
       "      <td>105.220001</td>\n",
       "      <td>22761600</td>\n",
       "      <td>0.0</td>\n",
       "      <td>0.0</td>\n",
       "    </tr>\n",
       "    <tr>\n",
       "      <th>2023-04-13 00:00:00-04:00</th>\n",
       "      <td>106.470001</td>\n",
       "      <td>108.264999</td>\n",
       "      <td>106.440002</td>\n",
       "      <td>108.190002</td>\n",
       "      <td>21650700</td>\n",
       "      <td>0.0</td>\n",
       "      <td>0.0</td>\n",
       "    </tr>\n",
       "    <tr>\n",
       "      <th>2023-04-14 00:00:00-04:00</th>\n",
       "      <td>107.690002</td>\n",
       "      <td>109.580002</td>\n",
       "      <td>107.589996</td>\n",
       "      <td>109.459999</td>\n",
       "      <td>20745400</td>\n",
       "      <td>0.0</td>\n",
       "      <td>0.0</td>\n",
       "    </tr>\n",
       "  </tbody>\n",
       "</table>\n",
       "<p>62 rows × 7 columns</p>\n",
       "</div>"
      ],
      "text/plain": [
       "                                 Open        High         Low       Close  \\\n",
       "Date                                                                        \n",
       "2023-01-17 00:00:00-05:00   92.779999   92.970001   90.839996   92.160004   \n",
       "2023-01-18 00:00:00-05:00   92.940002   93.587997   91.400002   91.779999   \n",
       "2023-01-19 00:00:00-05:00   91.389999   94.400002   91.379997   93.910004   \n",
       "2023-01-20 00:00:00-05:00   95.949997   99.419998   95.910004   99.279999   \n",
       "2023-01-23 00:00:00-05:00   99.129997  101.400002   98.750000  101.209999   \n",
       "...                               ...         ...         ...         ...   \n",
       "2023-04-10 00:00:00-04:00  107.389999  107.970001  105.599998  106.949997   \n",
       "2023-04-11 00:00:00-04:00  106.919998  107.220001  105.279999  106.120003   \n",
       "2023-04-12 00:00:00-04:00  107.389999  107.586998  104.970001  105.220001   \n",
       "2023-04-13 00:00:00-04:00  106.470001  108.264999  106.440002  108.190002   \n",
       "2023-04-14 00:00:00-04:00  107.690002  109.580002  107.589996  109.459999   \n",
       "\n",
       "                             Volume  Dividends  Stock Splits  \n",
       "Date                                                          \n",
       "2023-01-17 00:00:00-05:00  22935800        0.0           0.0  \n",
       "2023-01-18 00:00:00-05:00  19641600        0.0           0.0  \n",
       "2023-01-19 00:00:00-05:00  28707700        0.0           0.0  \n",
       "2023-01-20 00:00:00-05:00  53704800        0.0           0.0  \n",
       "2023-01-23 00:00:00-05:00  31791800        0.0           0.0  \n",
       "...                             ...        ...           ...  \n",
       "2023-04-10 00:00:00-04:00  19741500        0.0           0.0  \n",
       "2023-04-11 00:00:00-04:00  18721300        0.0           0.0  \n",
       "2023-04-12 00:00:00-04:00  22761600        0.0           0.0  \n",
       "2023-04-13 00:00:00-04:00  21650700        0.0           0.0  \n",
       "2023-04-14 00:00:00-04:00  20745400        0.0           0.0  \n",
       "\n",
       "[62 rows x 7 columns]"
      ]
     },
     "metadata": {},
     "output_type": "display_data"
    }
   ],
   "source": [
    "goog = yf.Ticker('GOOG')\n",
    "data = goog.history(period='3mo')\n",
    "display(data)"
   ]
  },
  {
   "cell_type": "code",
   "execution_count": 251,
   "metadata": {},
   "outputs": [
    {
     "name": "stdout",
     "output_type": "stream",
     "text": [
      "Parameters:\n",
      "  lambda = 1e-08\n",
      "  sigma = 11.601605656781848\n",
      "  epsilon = 1.3118868797056136\n",
      "  eta = 8.147797195051261e-06\n",
      "  gamma = 8.14779719505126e-07\n",
      "  tau = 1\n"
     ]
    }
   ],
   "source": [
    "average_daily_volume = np.mean(data['Volume'])\n",
    "average_daily_spread = np.mean(data['High'] - data['Low'])\n",
    "sigma = np.std(data['Close']) * np.sqrt(4)\n",
    "epsilon = average_daily_spread/2\n",
    "eta = average_daily_spread/(0.01*average_daily_volume)\n",
    "gamma = average_daily_spread/(0.1*average_daily_volume)\n",
    "tau = 1\n",
    "\n",
    "params = {\n",
    "    'lambda': 1e-08,\n",
    "    'sigma': sigma,\n",
    "    'epsilon': epsilon,\n",
    "    'eta': eta,\n",
    "    'gamma': gamma,\n",
    "    'tau': tau\n",
    "}\n",
    "\n",
    "print('Parameters:')\n",
    "for k,v in params.items():\n",
    "    print('  {} = {}'.format(k,v))"
   ]
  },
  {
   "cell_type": "code",
   "execution_count": 252,
   "metadata": {},
   "outputs": [],
   "source": [
    "class AlmgrenChriss1D:\n",
    "    \n",
    "    def __init__(self, params):\n",
    "        # Initialize Parameters\n",
    "        self._lambda = params['lambda']\n",
    "        self._sigma = params['sigma']\n",
    "        self._epsilon = params['epsilon']\n",
    "        self._eta = params['eta']\n",
    "        self._gamma = params['gamma']\n",
    "        self._tau = params['tau']\n",
    "        \n",
    "        self._eta_tilda = self._eta - 0.5*self._gamma*self._tau\n",
    "        \n",
    "        # Ensure Quadratic (for optimization)\n",
    "        assert self._eta_tilda > 0\n",
    "        \n",
    "        self._kappa_tilda_squared = (self._lambda*self._sigma**2)/self._eta_tilda\n",
    "        \n",
    "        self._kappa = np.arccosh(0.5*(self._kappa_tilda_squared*self._tau**2) + 1)/self._tau\n",
    "        \n",
    "    def trajectory(self, X, T):\n",
    "        # Optimal Liquidation Trajectory\n",
    "        ans = []\n",
    "        for t in range(T):\n",
    "            x = int(np.sinh(self._kappa*(T - t))/np.sinh(self._kappa*T)*X)\n",
    "            ans.append(x)\n",
    "        ans.append(0)\n",
    "        return np.array(ans)\n",
    "    \n",
    "    def strategy(self, X, T):\n",
    "        # Optimal Liquidation Trade List\n",
    "        return np.diff(self.trajectory(X,T))"
   ]
  },
  {
   "cell_type": "code",
   "execution_count": 253,
   "metadata": {},
   "outputs": [
    {
     "data": {
      "image/png": "[encoded data removed]",
      "text/plain": [
       "<Figure size 1200x700 with 1 Axes>"
      ]
     },
     "metadata": {},
     "output_type": "display_data"
    }
   ],
   "source": [
    "X = 250000\n",
    "T = 60\n",
    "\n",
    "model = AlmgrenChriss1D(params)\n",
    "trajectory = model.trajectory(X,T)\n",
    "\n",
    "plt.figure(figsize=(12,7))\n",
    "plt.plot(range(T+1),trajectory,'o-')\n",
    "plt.title(f'Optimal Liquidation Trajectory ({X} shares in {T} days)',fontsize=14)\n",
    "plt.xlabel('Time (days)', fontsize=12)\n",
    "plt.ylabel('Number of shares held', fontsize=12)\n",
    "plt.show()\n",
    "\n"
   ]
  },
  {
   "cell_type": "code",
   "execution_count": 254,
   "metadata": {},
   "outputs": [
    {
     "data": {
      "text/plain": [
       "array([84756, 56022, 37029, 24475, 16178, 10693,  7068,  4671,  3088,\n",
       "        2041,  1349,   892,   589,   390,   257,   171,   112,    75,\n",
       "          49,    32,    22,    14,     9,     6,     5,     2,     2,\n",
       "           1,     1,     0,     1,     0,     0,     0,     0,     0,\n",
       "           0,     0,     0,     0,     0,     0,     0,     0,     0,\n",
       "           0,     0,     0,     0,     0,     0,     0,     0,     0,\n",
       "           0,     0,     0,     0,     0,     0])"
      ]
     },
     "execution_count": 254,
     "metadata": {},
     "output_type": "execute_result"
    }
   ],
   "source": [
    "trajectory\n",
    "diff_trajectory = np.diff(trajectory)*-1\n",
    "diff_trajectory\n",
    "price_array = np.array(data[\"Close\"][:-2])\n",
    "price_array\n",
    "diff_trajectory"
   ]
  },
  {
   "cell_type": "code",
   "execution_count": 258,
   "metadata": {},
   "outputs": [
    {
     "data": {
      "text/plain": [
       "-583490.5659561157"
      ]
     },
     "execution_count": 258,
     "metadata": {},
     "output_type": "execute_result"
    }
   ],
   "source": [
    "initial_holding_value = X*data[\"Close\"].iloc[0]\n",
    "end_holding_value = np.sum(price_array*diff_trajectory)\n",
    "shortfall = end_holding_value - initial_holding_value \n",
    "shortfall\n",
    "end_holding_value\n",
    "initial_holding_value-end_holding_value"
   ]
  }
 ],
 "metadata": {
  "kernelspec": {
   "display_name": "Python 3",
   "language": "python",
   "name": "python3"
  },
  "language_info": {
   "codemirror_mode": {
    "name": "ipython",
    "version": 3
   },
   "file_extension": ".py",
   "mimetype": "text/x-python",
   "name": "python",
   "nbconvert_exporter": "python",
   "pygments_lexer": "ipython3",
   "version": "3.11.2"
  },
  "orig_nbformat": 4,
  "vscode": {
   "interpreter": {
    "hash": "734a6733fb42fc086a95a03f308811f05e081a77717a544628f1890c0696a2d5"
   }
  }
 },
 "nbformat": 4,
 "nbformat_minor": 2
}
