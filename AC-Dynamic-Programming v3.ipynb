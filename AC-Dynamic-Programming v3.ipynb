{
 "cells": [
  {
   "cell_type": "code",
   "execution_count": 2,
   "metadata": {},
   "outputs": [],
   "source": [
    "# Almgren-Chriss Framework through Dynamic Programming\n",
    "import numpy as np\n",
    "import pandas as pd\n",
    "import time\n",
    "import matplotlib.pyplot as plt\n",
    "import numba as nb"
   ]
  },
  {
   "cell_type": "code",
   "execution_count": 3,
   "metadata": {},
   "outputs": [
    {
     "name": "stdout",
     "output_type": "stream",
     "text": [
      "[0.9486833  0.95958151 0.96363338 0.96526879 0.9455393  0.94236041]\n"
     ]
    },
    {
     "data": {
      "text/plain": [
       "0.9541777801132847"
      ]
     },
     "execution_count": 3,
     "metadata": {},
     "output_type": "execute_result"
    }
   ],
   "source": [
    "t_s = np.random.standard_t(4, 5)/100\n",
    "t_innovation = 1+t_s\n",
    "_s0_t = 50*np.cumprod(t_innovation)\n",
    "_s0_t = np.append(50,_s0_t)\n",
    "_cs_t = 0.3/np.sqrt(250)\n",
    "_sigma_t = [_cs_t * _s0_t]\n",
    "_sigma_t = np.squeeze(_sigma_t)\n",
    "\n",
    "print(_sigma_t)\n",
    "np.mean(_sigma_t)"
   ]
  },
  {
   "cell_type": "code",
   "execution_count": 4,
   "metadata": {},
   "outputs": [],
   "source": [
    "# Utilities\n",
    "@nb.njit()\n",
    "def h(x, alpha, eta):\n",
    "    return eta * x ** (alpha)\n",
    "\n",
    "@nb.njit()\n",
    "def g(x, beta, gamma):\n",
    "    return gamma * x ** (beta)\n",
    "\n",
    "@nb.njit()\n",
    "def H(x,n,psi,alpha,beta,gamma,eta,sigma=0.5771878697192828,tau=1):\n",
    "    \"\"\"\n",
    "    Hamiltonian equation. To be minimized through dynamic programming.\n",
    "    \"\"\"\n",
    "    res = psi*n*g(n/tau,beta,gamma) + psi*(x-n)*tau*h(n/tau,alpha,eta) + 0.5*(psi**2)*(sigma**2)*tau*((x-n)**2)\n",
    "    return res"
   ]
  },
  {
   "attachments": {},
   "cell_type": "markdown",
   "metadata": {},
   "source": [
    "Dynamic Programming: A simplified version\n",
    "Bellman equation with change of variable"
   ]
  },
  {
   "cell_type": "code",
   "execution_count": 5,
   "metadata": {},
   "outputs": [],
   "source": [
    "def dynamic_programming_old(nb_T, X_total, psi, alpha, beta, gamma, eta, plot='True'):\n",
    "    \n",
    "    \"\"\"\n",
    "    MODEL\n",
    "    - Bellman equation and value iteration for solving the Markov\n",
    "      Decision Process of the Almgren-Chriss model.\n",
    "    \n",
    "    INPUTS\n",
    "    - nb_T,       number of time steps\n",
    "    - X_total,    number of shares to be liquidated\n",
    "    - psi,        risk aversion\n",
    "    \"\"\"\n",
    "    \n",
    "    ### Initialization\n",
    "    u = np.zeros(shape=(nb_T, X_total+1), dtype=\"float64\")      # value function\n",
    "    b = np.zeros(shape=(nb_T, X_total+1), dtype=\"int\")          # best move\n",
    "    inventoryforX = np.zeros(shape=(nb_T,1), dtype=\"int\")       # evolution of inventory\n",
    "    inventoryforX[0] = X_total\n",
    "    N = []                                                      # optimal selling trajectory\n",
    "    tau = 0.5\n",
    "    \n",
    "    ### Market microstructure: volatility, correlation\n",
    "    ### [insert dynamic volatility data]\n",
    "    \n",
    "    ### Terminal condition\n",
    "    for x in range(X_total+1):\n",
    "        u[nb_T - 1, x] = np.exp(x * h(x/tau, alpha, eta))\n",
    "        b[nb_T - 1, x] = x\n",
    "    \n",
    "    ### Backwards induction\n",
    "    for t in range(nb_T-2, -1, -1):\n",
    "        for x in range(X_total+1):\n",
    "            \n",
    "            best_value = u[t+1,0] * np.exp(H(x, x, psi, alpha, beta, gamma, eta))\n",
    "            best_n = x\n",
    "            \n",
    "            for n in range(x):\n",
    "                # We compute the utility function if we sell n shares\n",
    "                current_value = u[t+1,x-n] * np.exp(H(x, n, psi, alpha, beta, gamma, eta))\n",
    "                \n",
    "                if current_value < best_value:\n",
    "                    best_value = current_value\n",
    "                    best_n = n   # nb of shares to liquidate\n",
    "               \n",
    "            u[t,x] = best_value\n",
    "            b[t,x] = best_n\n",
    "    \n",
    "    ### Optimal trajectory\n",
    "    for t in range(1, nb_T):\n",
    "        inventoryforX[t] = inventoryforX[t-1] - b[t,inventoryforX[t-1]]\n",
    "        N.append(b[t,inventoryforX[t-1]])\n",
    "    \n",
    "    N = np.asarray(N)\n",
    "    \n",
    "    # ### Plot results\n",
    "    # if plot:\n",
    "    #     plt.figure(figsize=(7,5))\n",
    "    #     plt.plot(inventoryforX, color='blue', lw=1.5)\n",
    "    #     plt.xlabel('Trading periods')\n",
    "    #     plt.ylabel('Number of shares')\n",
    "    #     plt.grid(True)\n",
    "    #     plt.show()\n",
    "    \n",
    "    return u, b, inventoryforX, N"
   ]
  },
  {
   "cell_type": "code",
   "execution_count": 6,
   "metadata": {},
   "outputs": [],
   "source": [
    "@nb.njit(parallel=True)\n",
    "def x_loop(X_total,ut,psi,alpha,beta,gamma,eta):\n",
    "\n",
    "    u_t = np.zeros((X_total+1))\n",
    "    b_t = np.zeros((X_total+1))\n",
    "\n",
    "    for x in nb.prange(X_total+1):\n",
    "        \n",
    "        nn = np.arange(x+1)\n",
    "        value = ut[x-nn] * np.exp(H(x, nn, psi, alpha, beta, gamma, eta))\n",
    "\n",
    "        u_t[x] = np.min(value)\n",
    "        b_t[x] = nn[np.argmin(value)]\n",
    "\n",
    "\n",
    "    return u_t,b_t\n",
    "\n",
    "def dynamic_programming(nb_T, X_total, psi, alpha, beta, gamma, eta, plot='True'):\n",
    "    \n",
    "    \"\"\"\n",
    "    MODEL\n",
    "    - Bellman equation and value iteration for solving the Markov\n",
    "      Decision Process of the Almgren-Chriss model.\n",
    "    \n",
    "    INPUTS\n",
    "    - nb_T,       number of time steps\n",
    "    - X_total,    number of shares to be liquidated\n",
    "    - psi,        risk aversion\n",
    "    \"\"\"\n",
    "    \n",
    "    ### Initialization\n",
    "    u = np.zeros(shape=(nb_T, X_total+1), dtype=\"float64\")      # value function\n",
    "    b = np.zeros(shape=(nb_T, X_total+1), dtype=\"int\")          # best move\n",
    "    inventoryforX = np.zeros(shape=(nb_T,1), dtype=\"int\")       # evolution of inventory\n",
    "    inventoryforX[0] = X_total\n",
    "    N = np.zeros((nb_T-1,1))                                    # optimal selling trajectory\n",
    "    tau = 1\n",
    "    \n",
    "    ### Market microstructure: volatility, correlation\n",
    "    ### [insert dynamic volatility data]\n",
    "    \n",
    "    ### Terminal condition\n",
    "    xx = np.arange(X_total+1)\n",
    "    \n",
    "    u[-1, :] = np.exp(xx * h(xx/tau, alpha, eta))\n",
    "    b[-1, :] = xx\n",
    "\n",
    "\n",
    "    ### Backwards induction\n",
    "    for t in range(nb_T-2, -1, -1):\n",
    "\n",
    "        u_t,b_t = x_loop(X_total,u[t+1],psi,alpha,beta,gamma,eta)\n",
    "\n",
    "        u[t,:] = u_t\n",
    "        b[t,:] = b_t\n",
    "\n",
    "    ### Optimal trajectory\n",
    "    for t in range(1, nb_T):\n",
    "        inventoryforX[t] = inventoryforX[t-1] - b[t,inventoryforX[t-1]]\n",
    "        N[t-1] = b[t,inventoryforX[t-1]]\n",
    "    \n",
    "    return u, b, inventoryforX, N"
   ]
  },
  {
   "cell_type": "code",
   "execution_count": 7,
   "metadata": {},
   "outputs": [
    {
     "name": "stderr",
     "output_type": "stream",
     "text": [
      "C:\\Users\\jeope\\AppData\\Local\\Temp\\ipykernel_24080\\3087820583.py:7: MatplotlibDeprecationWarning: The seaborn styles shipped by Matplotlib are deprecated since 3.6, as they no longer correspond to the styles shipped by seaborn. However, they will remain available as 'seaborn-v0_8-<style>'. Alternatively, directly use the seaborn API instead.\n",
      "  plt.style.use('seaborn-white')\n"
     ]
    }
   ],
   "source": [
    "import sys\n",
    "sys.path.append(r\"C:\\Users\\jeope\\AppData\\Roaming\\Microsoft\\Windows\\Start Menu\\Programs\\MiKTeX\\MiKTeX Console.lnk\")\n",
    "\n",
    "from seaborn import color_palette, set_palette\n",
    "from matplotlib import rc, cm\n",
    "\n",
    "plt.style.use('seaborn-white')\n",
    "set_palette(\"deep\")\n",
    "\n",
    "rc('font', **{'family': 'serif', 'serif': ['Palatino']})\n",
    "rc('text', usetex=True)\n",
    "rc('text.latex', preamble=r'\\usepackage{underscore}')\n",
    "\n",
    "prop_cycle = plt.rcParams['axes.prop_cycle']\n",
    "colors = prop_cycle.by_key()['color']"
   ]
  },
  {
   "attachments": {},
   "cell_type": "markdown",
   "metadata": {},
   "source": [
    "Different levels of risk, i.e., $\\psi$"
   ]
  },
  {
   "cell_type": "code",
   "execution_count": 18,
   "metadata": {},
   "outputs": [
    {
     "data": {
      "image/png": "[encoded data removed]",
      "text/plain": [
       "<Figure size 600x500 with 1 Axes>"
      ]
     },
     "metadata": {},
     "output_type": "display_data"
    }
   ],
   "source": [
    "#u1, b1, p1, N1 = dynamic_programming(nb_T=6, X_total=100, psi=2*10**(-6), alpha=0.02, beta=1, gamma=2.5*10**(-7), eta=2.5*10**(-7), plot='False')\n",
    "#u2, b2, p2, N2 = dynamic_programming(nb_T=6, X_total=200, psi=2*10**(-6), alpha=0.02, beta=1, gamma=2.5*10**(-7), eta=2.5*10**(-6), plot='False')\n",
    "#u3, b3, p3, N3 = dynamic_programming(nb_T=6, X_total=500, psi=2*10**(-6), alpha=0.02, beta=1, gamma=2.5*10**(-7), eta=2.5*10**(-5), plot='False')\n",
    "#u4, b4, p4, N4 = dynamic_programming(nb_T=6, X_total=1000, psi=2*10**(-6), alpha=0.02, beta=1, gamma=2.5*10**(-7), eta=2.5*10**(-4), plot='False')\n",
    "#u5, b5, p5, N5 = dynamic_programming(nb_T=6, X_total=2000, psi=2*10**(-6), alpha=0.02, beta=1, gamma=2.5*10**(-7), eta=2.5*10**(-3), plot='False')\n",
    "#u6, b6, p6, N6 = dynamic_programming(nb_T=6, X_total=5000, psi=2*10**(-6), alpha=0.02, beta=1, gamma=2.5*10**(-7), eta=2.5*10**(-2), plot='False')\n",
    "u7, b7, p7, N7 = dynamic_programming(nb_T=6, X_total=1000, psi=2*10**(-6), alpha=0.02, beta=1, gamma=2.5*10**(-7), eta=2.5*10**(-6), plot='False')\n",
    "#print(p1)\n",
    "#print(p2)\n",
    "#print(p3)\n",
    "\n",
    "plt.figure(figsize=(6,5))\n",
    "#plt.plot(p1[0:5], lw=2, label=r'$\\eta=2.5*10**(-7)$')\n",
    "#plt.plot(p2[0:5], lw=2, label=r'$\\eta=2.5*10**(-6)$')\n",
    "#plt.plot(p3[0:5], lw=2, label=r'$\\eta=2.5*10**(-5)$')\n",
    "#plt.plot(p4[0:5], lw=2, label=r'$\\eta=2.5*10**(-4)$')\n",
    "#plt.plot(p5[0:5], lw=2, label=r'$\\eta=2.5*10**(-3)$')\n",
    "#plt.plot(p6[0:5], lw=2, label=r'$\\eta=2.5*10**(-2)$')\n",
    "plt.plot(p7[0:5], lw=2, label=r'$\\eta=2.5*10**(-6)$')\n",
    "#plt.scatter(np.arange(0, 5), p1[0:5],  lw=2)\n",
    "#plt.scatter(np.arange(0, 5), p2[0:5],  lw=2)\n",
    "#plt.scatter(np.arange(0, 5), p3[0:5],  lw=2)\n",
    "#plt.scatter(np.arange(0, 5), p4[0:5],  lw=2)\n",
    "#plt.scatter(np.arange(0, 5), p5[0:5],  lw=2)\n",
    "#plt.scatter(np.arange(0, 5), p6[0:5],  lw=2)\n",
    "#plt.scatter(np.arange(0, 5), p7[0:5],  lw=2)\n",
    "\n",
    "plt.xlabel('Time Periods')\n",
    "plt.ylabel('Share Holdings')\n",
    "plt.legend(loc='best')\n",
    "#plt.title('$\\gamma=0.05$, $\\eta=0.05$')\n",
    "plt.xlim([0,4])\n",
    "plt.xticks([0, 1, 2, 3, 4])\n",
    "plt.grid(True)\n",
    "plt.savefig('DP1.png')\n",
    "plt.show()"
   ]
  },
  {
   "cell_type": "code",
   "execution_count": 16,
   "metadata": {},
   "outputs": [
    {
     "name": "stdout",
     "output_type": "stream",
     "text": [
      "[[1000]\n",
      " [ 330]\n",
      " [ 106]\n",
      " [  30]\n",
      " [   0]\n",
      " [   0]]\n"
     ]
    }
   ],
   "source": [
    "print(p7)"
   ]
  },
  {
   "cell_type": "code",
   "execution_count": 277,
   "metadata": {},
   "outputs": [
    {
     "name": "stdout",
     "output_type": "stream",
     "text": [
      "dp_p1_1: [[9737  256    7    0    0]]\n",
      "dp_p1_2: [[8155 1506  279   60    0]]\n",
      "dp_p1_3: [[4581 2624 1613 1182    0]]\n",
      "dp_p1_4: [[2807 2543 2369 2281    0]]\n",
      "dp_p1_5: [[2540 2507 2484 2469    0]]\n",
      "dp_p1_6: [[2507 2504 2497 2492    0]]\n",
      "dp_p1_7: [[2234 2612 2531 2623    0]]\n"
     ]
    }
   ],
   "source": [
    "#psi_values = np.linspace(0.0002, 0.00000000000002, 1000)\n",
    "psi_values = [2*10**(-4),2*10**(-5),2*10**(-6),2*10**(-7),2*10**(-8),2*10**(-10),2*10**(-15)]\n",
    "dp_p1_list = []\n",
    "\n",
    "for psi in psi_values:\n",
    "    u1, b1, p1, N1 = dynamic_programming(nb_T=6, X_total=10000, psi=psi, alpha=0.02, beta=1, gamma=2.5*10**(-7), eta=2.5*10**(-6), plot=False)\n",
    "    dp_p1 = np.diff(p1.reshape(1, 6)) * -1\n",
    "    dp_p1_list.append(dp_p1)\n",
    "    \n",
    "    # Perform further operations with dp_p1 if desired\n",
    "    # ...\n",
    "\n",
    "# Access each dp_p1 array individually\n",
    "for i, dp_p1 in enumerate(dp_p1_list):\n",
    "    print(f\"dp_p1_{i+1}: {dp_p1}\")\n"
   ]
  },
  {
   "cell_type": "code",
   "execution_count": 278,
   "metadata": {},
   "outputs": [],
   "source": [
    "import pickle\n",
    "\n",
    "# Save dp_p1_list\n",
    "with open('dp_p2_list.pkl', 'wb') as f:\n",
    "    pickle.dump(dp_p1_list, f)"
   ]
  },
  {
   "cell_type": "code",
   "execution_count": 192,
   "metadata": {},
   "outputs": [
    {
     "name": "stdout",
     "output_type": "stream",
     "text": [
      "[array([[9737,  256,    7,    0,    0]]), array([[9734,  259,    7,    0,    0]]), array([[9732,  261,    7,    0,    0]]), array([[9729,  264,    7,    0,    0]]), array([[9726,  267,    7,    0,    0]]), array([[9724,  269,    7,    0,    0]]), array([[9721,  271,    8,    0,    0]]), array([[9718,  274,    8,    0,    0]]), array([[9715,  277,    8,    0,    0]]), array([[9712,  280,    8,    0,    0]]), array([[9709,  283,    8,    0,    0]]), array([[9706,  286,    8,    0,    0]]), array([[9703,  288,    9,    0,    0]]), array([[9699,  292,    9,    0,    0]]), array([[9696,  295,    9,    0,    0]]), array([[9693,  298,    9,    0,    0]]), array([[9689,  302,    9,    0,    0]]), array([[9686,  304,   10,    0,    0]]), array([[9682,  308,   10,    0,    0]]), array([[9678,  312,   10,    0,    0]]), array([[9674,  316,   10,    0,    0]]), array([[9670,  319,   11,    0,    0]]), array([[9667,  322,   11,    0,    0]]), array([[9662,  327,   11,    0,    0]]), array([[9658,  331,   11,    0,    0]]), array([[9654,  334,   12,    0,    0]]), array([[9649,  339,   12,    0,    0]]), array([[9645,  343,   12,    0,    0]]), array([[9640,  347,   13,    0,    0]]), array([[9636,  351,   13,    0,    0]]), array([[9631,  356,   13,    0,    0]]), array([[9626,  360,   14,    0,    0]]), array([[9620,  366,   14,    0,    0]]), array([[9615,  370,   15,    0,    0]]), array([[9610,  375,   15,    0,    0]]), array([[9604,  381,   15,    0,    0]]), array([[9598,  386,   16,    0,    0]]), array([[9592,  392,   16,    0,    0]]), array([[9586,  397,   17,    0,    0]]), array([[9580,  403,   17,    0,    0]]), array([[9573,  409,   17,    1,    0]]), array([[9566,  415,   18,    1,    0]]), array([[9559,  422,   18,    1,    0]]), array([[9552,  428,   19,    1,    0]]), array([[9545,  435,   19,    1,    0]]), array([[9537,  442,   20,    1,    0]]), array([[9529,  449,   21,    1,    0]]), array([[9521,  456,   22,    1,    0]]), array([[9512,  464,   23,    1,    0]]), array([[9504,  472,   23,    1,    0]]), array([[9494,  481,   24,    1,    0]]), array([[9485,  489,   25,    1,    0]]), array([[9475,  498,   26,    1,    0]]), array([[9465,  507,   27,    1,    0]]), array([[9454,  517,   28,    1,    0]]), array([[9443,  526,   30,    1,    0]]), array([[9432,  536,   30,    2,    0]]), array([[9419,  548,   31,    2,    0]]), array([[9407,  558,   33,    2,    0]]), array([[9394,  570,   34,    2,    0]]), array([[9380,  582,   36,    2,    0]]), array([[9366,  594,   38,    2,    0]]), array([[9351,  607,   40,    2,    0]]), array([[9335,  621,   41,    3,    0]]), array([[9318,  636,   43,    3,    0]]), array([[9301,  651,   45,    3,    0]]), array([[9283,  666,   48,    3,    0]]), array([[9263,  683,   50,    4,    0]]), array([[9243,  700,   53,    4,    0]]), array([[9221,  719,   56,    4,    0]]), array([[9198,  738,   59,    5,    0]]), array([[9174,  758,   63,    5,    0]]), array([[9148,  780,   66,    6,    0]]), array([[9121,  802,   71,    6,    0]]), array([[9092,  826,   75,    7,    0]]), array([[9060,  852,   80,    8,    0]]), array([[9027,  879,   85,    9,    0]]), array([[8990,  909,   91,   10,    0]]), array([[8952,  939,   98,   11,    0]]), array([[8909,  973,  106,   12,    0]]), array([[8864, 1008,  114,   14,    0]]), array([[8814, 1046,  124,   16,    0]]), array([[8760, 1087,  135,   18,    0]]), array([[8700, 1132,  147,   21,    0]]), array([[8634, 1180,  162,   24,    0]]), array([[8562, 1232,  178,   28,    0]]), array([[8480, 1290,  197,   33,    0]]), array([[8389, 1352,  219,   40,    0]]), array([[8285, 1422,  245,   48,    0]]), array([[8168, 1498,  276,   58,    0]]), array([[8031, 1583,  314,   72,    0]]), array([[7872, 1677,  360,   91,    0]]), array([[7684, 1782,  418,  116,    0]]), array([[7456, 1901,  491,  152,    0]]), array([[7175, 2033,  586,  206,    0]]), array([[6816, 2180,  715,  289,    0]]), array([[6340, 2340,  895,  425,    0]]), array([[5663, 2503, 1164,  670,    0]]), array([[4595, 2624, 1607, 1174,    0]]), array([[2489, 2495, 2483, 2533,    0]])]\n"
     ]
    }
   ],
   "source": [
    "print(dp_p1_list)\n",
    "\n",
    "Parameters:\n",
    "  lambda = 1e-08\n",
    "  sigma = 0.5771878697192828\n",
    "  epsilon = 1.3414613590037305\n",
    "  eta = 3.6625459173846226e-05\n",
    "  gamma = 3.6625459173846225e-06\n",
    "  tau = 1"
   ]
  },
  {
   "cell_type": "code",
   "execution_count": 284,
   "metadata": {},
   "outputs": [
    {
     "name": "stdout",
     "output_type": "stream",
     "text": [
      "[[10000]\n",
      " [ 7292]\n",
      " [ 4764]\n",
      " [ 2353]\n",
      " [    0]\n",
      " [    0]]\n",
      "[[10000]\n",
      " [ 7524]\n",
      " [ 5022]\n",
      " [ 2522]\n",
      " [    0]\n",
      " [    0]]\n",
      "[[10000]\n",
      " [ 7292]\n",
      " [ 4764]\n",
      " [ 2353]\n",
      " [    0]\n",
      " [    0]]\n"
     ]
    },
    {
     "data": {
      "image/png": "[encoded data removed]",
      "text/plain": [
       "<Figure size 600x500 with 1 Axes>"
      ]
     },
     "metadata": {},
     "output_type": "display_data"
    }
   ],
   "source": [
    "sigma_pg = 0.5771878697192828\n",
    "epsilon_pg = 1.3414613590037305\n",
    "gamma_pg = 3.6625459173846225e-06\n",
    "u1, b1, p1, N1 = dynamic_programming(nb_T=6, X_total=10000, psi=2*10**(-6), alpha=0.02, beta=1, gamma=gamma_pg, eta=2.5*10**(-6), plot='False')\n",
    "u2, b2, p2, N2 = dynamic_programming(nb_T=6, X_total=10000, psi=0.00000000000002, alpha=0.02, beta=1, gamma=gamma_pg, eta=2.5*10**(-6), plot='False')\n",
    "#u3, b3, p3, N3 = dynamic_programming(nb_T=6, X_total=10000, psi=0.000002, alpha=0.02, beta=1, gamma=gamma_pg, eta=2.5*10**(-6), plot='False')\n",
    "#u4, b4, p4, N4 = dynamic_programming(nb_T=6, X_total=100, psi=0.0000002, alpha=0.02, beta=1, gamma=2.5*10**(-7), eta=2.5*10**(-6), plot='False')\n",
    "#u5, b5, p5, N5 = dynamic_programming(nb_T=6, X_total=100, psi=0.00000002, alpha=0.02, beta=1, gamma=2.5*10**(-7), eta=2.5*10**(-6), plot='False')\n",
    "#u6, b6, p6, N6 = dynamic_programming(nb_T=6, X_total=100, psi=0.0000000002, alpha=0.02, beta=1, gamma=2.5*10**(-7), eta=2.5*10**(-6), plot='False')\n",
    "#u7, b7, p7, N7 = dynamic_programming(nb_T=6, X_total=100, psi=0.00000000000002, alpha=0.02, beta=1, gamma=2.5*10**(-7), eta=2.5*10**(-6), plot='False')\n",
    "print(p1)\n",
    "print(p2)\n",
    "print(p3)\n",
    "\n",
    "plt.figure(figsize=(6,5))\n",
    "plt.plot(p1*100, lw=2, label='$\\lambda=2*10**(-4)$')\n",
    "plt.plot(p2*100, lw=2, label='$\\lambda=2*10**(-5)$')\n",
    "#plt.plot(p3, lw=2, label='$\\lambda=2*10**(-6)$')\n",
    "#plt.plot(p4, lw=2, label='$\\lambda=2*10**(-7)$')\n",
    "#plt.plot(p5, lw=2, label='$\\lambda=2*10**(-8)$')\n",
    "#plt.plot(p6, lw=2, label='$\\lambda=2*10**(-10)$')\n",
    "#plt.plot(p7, lw=2, label='$0$')\n",
    "#plt.scatter(np.arange(0, 6), p1,  lw=2)\n",
    "#plt.scatter(np.arange(0, 6), p2,  lw=2)\n",
    "#plt.scatter(np.arange(0, 6), p3,  lw=2)\n",
    "#plt.scatter(np.arange(0, 6), p4,  lw=2)\n",
    "#plt.scatter(np.arange(0, 6), p5,  lw=2)\n",
    "#plt.scatter(np.arange(0, 6), p6,  lw=2)\n",
    "#plt.scatter(np.arange(0, 6), p7,  lw=2)\n",
    "\n",
    "plt.xlabel('Time Periods')\n",
    "plt.ylabel('Share Holdings')\n",
    "plt.legend(loc='best')\n",
    "#plt.title('$\\gamma=0.05$, $\\eta=0.05$')\n",
    "plt.grid(True)\n",
    "plt.savefig('DP1.png')\n",
    "plt.show()"
   ]
  }
 ],
 "metadata": {
  "kernelspec": {
   "display_name": "version1",
   "language": "python",
   "name": "python3"
  },
  "language_info": {
   "codemirror_mode": {
    "name": "ipython",
    "version": 3
   },
   "file_extension": ".py",
   "mimetype": "text/x-python",
   "name": "python",
   "nbconvert_exporter": "python",
   "pygments_lexer": "ipython3",
   "version": "3.11.2"
  },
  "orig_nbformat": 4,
  "vscode": {
   "interpreter": {
    "hash": "3a7b9178a8d06d773675986054c75a42e350bbad9cb6a8609b83f30bc11672cd"
   }
  }
 },
 "nbformat": 4,
 "nbformat_minor": 2
}
